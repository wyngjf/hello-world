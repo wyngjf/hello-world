{
 "cells": [
  {
   "cell_type": "markdown",
   "metadata": {},
   "source": [
    "# Inner products and Norms"
   ]
  },
  {
   "cell_type": "markdown",
   "metadata": {},
   "source": [
    "## Inner products"
   ]
  },
  {
   "cell_type": "markdown",
   "metadata": {},
   "source": [
    "> **Def. dot product**:\n",
    "> \n",
    "> $x, y\\in R^n$, dot product fo x and y: $$x \\cdot y = x_1y_1 + \\cdots + x_ny_n$$"
   ]
  },
  {
   "cell_type": "markdown",
   "metadata": {},
   "source": [
    "> **Def. inner product**:\n",
    "> \n",
    "> An inner product on V is a function that takes each ordered pair (u, v) of elements of V to a number $<u,v> \\in F$ and has the following properties:\n",
    "> - positivity: $$<v,v> \\ge 0, \\forall v\\in V$$\n",
    "> - definiteness: $$<v,v> = 0, \\text{ iff } v=0$$\n",
    "> - additivity in first slot: $$<u+v, w> = <u,w> + <v,w>, \\forall u, v, w \\in V$$\n",
    "> - homogeneity in first slot: $$<\\lambda u, v>=\\underbrace{<u,\\bar{\\lambda} v>}_{\\text{in second slot}} = \\lambda <u, v>, \\forall \\lambda \\in F, \\forall u, v\\in V$$\n",
    "> - conjugate symmetry: $$<u,v> = \\overline{<v,u>}, \\forall u,v\\in V$$"
   ]
  },
  {
   "cell_type": "markdown",
   "metadata": {},
   "source": [
    "- examples:\n",
    "    - the **Euclidean inner product** on $F^n$ is defined by: $$<(w_1, \\dots, w_n), (z_1, \\dots, z_n)> = w_1\\bar z_1 + \\cdots + w_n\\bar z_n$$\n",
    "    - if $c_1, \\dots, c_n$ are positive numbers, then a inner product can be defined on $F^n$ by $$<(w_1, \\dots, w_n), (z_1, \\dots, z_n)> = c_1w_1\\bar z_1 + \\cdots + c_nw_n\\bar z_n$$\n",
    "    - an inner product can be defined on the vector space of continuous real-valued functions on the interval [-1,1] by \n",
    "    $$<f,g> = \\int_{-1}^1 f(x)g(x) dx$$\n",
    "    - an inner product can be defined on $\\mathcal P(R)$ by:\n",
    "    $$<p,q> = \\int_0^{\\infty} p(x)q(x) e^{-x^2} dx$$"
   ]
  },
  {
   "cell_type": "markdown",
   "metadata": {},
   "source": [
    "> **Def. Inner product space**:\n",
    "> \n",
    "> An inner product space is a vector space V along with an inner product on V.\n",
    "\n",
    "> <font color=\"red\">** V denotes an inner product space over F for the rest of this chapter**</font>"
   ]
  },
  {
   "cell_type": "markdown",
   "metadata": {},
   "source": [
    "## Norms"
   ]
  },
  {
   "cell_type": "markdown",
   "metadata": {},
   "source": [
    "# Orthonormal Basis"
   ]
  },
  {
   "cell_type": "markdown",
   "metadata": {},
   "source": [
    "## Fundamentals"
   ]
  },
  {
   "cell_type": "markdown",
   "metadata": {},
   "source": [
    "## Linear Functionals on inner product spaces"
   ]
  },
  {
   "cell_type": "markdown",
   "metadata": {},
   "source": [
    "# Othogonal complements and minimization problems"
   ]
  },
  {
   "cell_type": "markdown",
   "metadata": {},
   "source": [
    "## Orthogonal complements"
   ]
  },
  {
   "cell_type": "markdown",
   "metadata": {},
   "source": [
    "## Minimization problems"
   ]
  }
 ],
 "metadata": {
  "kernelspec": {
   "display_name": "Python 3",
   "language": "python",
   "name": "python3"
  },
  "language_info": {
   "codemirror_mode": {
    "name": "ipython",
    "version": 3
   },
   "file_extension": ".py",
   "mimetype": "text/x-python",
   "name": "python",
   "nbconvert_exporter": "python",
   "pygments_lexer": "ipython3",
   "version": "3.6.0"
  },
  "latex_envs": {
   "LaTeX_envs_menu_present": true,
   "autocomplete": true,
   "bibliofile": "biblio.bib",
   "cite_by": "apalike",
   "current_citInitial": 1,
   "eqLabelWithNumbers": true,
   "eqNumInitial": 1,
   "hotkeys": {
    "equation": "Ctrl-E",
    "itemize": "Ctrl-I"
   },
   "labels_anchors": false,
   "latex_user_defs": false,
   "report_style_numbering": false,
   "user_envs_cfg": false
  },
  "toc": {
   "colors": {
    "hover_highlight": "#DAA520",
    "running_highlight": "#FF0000",
    "selected_highlight": "#FFD700"
   },
   "moveMenuLeft": true,
   "nav_menu": {
    "height": "186px",
    "width": "252px"
   },
   "navigate_menu": true,
   "number_sections": true,
   "sideBar": true,
   "threshold": 4,
   "toc_cell": false,
   "toc_section_display": "block",
   "toc_window_display": false,
   "widenNotebook": false
  }
 },
 "nbformat": 4,
 "nbformat_minor": 2
}

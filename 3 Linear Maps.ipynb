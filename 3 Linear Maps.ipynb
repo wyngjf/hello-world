{
 "cells": [
  {
   "cell_type": "markdown",
   "metadata": {},
   "source": [
    "# Vector space and linear maps"
   ]
  },
  {
   "cell_type": "markdown",
   "metadata": {},
   "source": [
    "## Linear maps"
   ]
  },
  {
   "cell_type": "markdown",
   "metadata": {},
   "source": [
    "> Def. **Linear Map/ linear transformation**:\n",
    "> \n",
    "> A **linear map** from V to W is a <font color=\"blue\">function $T: V \\to W$</font> with the following properties:\n",
    "> - **additivity**: $$T(u+v) = Tu + Tv, \\qquad \\forall u, v\\in V$$\n",
    "> - **homogeneity**: $$T(\\lambda v) = \\lambda (Tv), \\qquad \\forall \\lambda \\in F, \\forall v \\in V$$\n",
    "\n",
    "**Notation**: the set of all linear maps from V to W is denoted $\\mathcal L(V, W)$"
   ]
  },
  {
   "cell_type": "markdown",
   "metadata": {},
   "source": [
    "Examples:\n",
    "\n",
    "- **zero**: function $0 \\in \\mathcal L(V,W)$ maps v in V to 0 in W. defined by: $$0v=0 \\in W$$\n",
    "- **identity map**: denoted $I \\in \\mathcal L(V,V)$, defined by: $$Iv = v \\in V$$\n",
    "- **differentiation**: define: $$Dp = p', \\qquad D \\in \\mathcal L(\\mathcal P(R), \\mathcal P(R))$$\n",
    "    - $(f+g)' = f' + g', \\qquad (\\lambda f)' = \\lambda f'$\n",
    "- **integration**: define: $$Tp = \\int_0^1 p(x) dx, \\qquad T \\in \\mathcal L(\\mathcal P(R), R)$$\n",
    "- **multiplication by $x^2$**: define $$(Tp)(x) = x^2p(x), \\qquad x \\in R, T\\in \\mathcal L(\\mathcal P(R), \\mathcal P(R))$$\n",
    "- **backward shift**: define $$T(x_1, x_2, x_3, \\dots) = (x_2, x_3, \\dots), \\qquad T\\in \\mathcal L(F^{\\infty}, F^{\\infty})$$\n",
    "- $R^n \\mapsto R^m$. actually T can be written as m by n matrix"
   ]
  },
  {
   "cell_type": "markdown",
   "metadata": {},
   "source": [
    "## Algebraic Operations on L(V,W)"
   ]
  },
  {
   "cell_type": "markdown",
   "metadata": {},
   "source": [
    "> **Def. addition and scalar multiplication on $\\mathcal L(V, W)$**\n",
    "> \n",
    "> Suppose $S, T \\in \\mathcal L(V,W), \\lambda \\in F$. The **sum** S+T and the **product** $\\lambda T$ are the linear maps from V to W defined by $$(S+T)(v) = Sv + Tv, \\qquad (\\lambda T)(v) = \\lambda (Tv), \\quad \\forall v\\in V$$"
   ]
  },
  {
   "cell_type": "markdown",
   "metadata": {},
   "source": [
    "- $\\mathcal L(V, W)$ is a vector space."
   ]
  },
  {
   "cell_type": "markdown",
   "metadata": {},
   "source": [
    "> **Def. Product of linear maps**:\n",
    "> \n",
    "> If $T \\in \\mathcal L(U,V), S\\in \\mathcal (V, W)$, the the **product** $ST\\in \\mathcal L(U,W)$ is defined by $$(ST)(u) = S(Tu),  \\quad \\forall u\\in U$$"
   ]
  },
  {
   "cell_type": "markdown",
   "metadata": {},
   "source": [
    "- Algebraic properties of products of linear maps:\n",
    "    - **associativity**: $$(T_1T_2)T_3 = T_1(T_2T_3)$$\n",
    "    - **identity**: $$TI = IT = T$$\n",
    "    - **distributive properties**:$T, T_1, T_2 \\in \\mathcal L(U,V), S, S_1, S_2 \\in \\mathcal L(V,W)$ $$(S_1 + S_2)T = S_1T + S_2T, \\quad S(T_1+T_2) = ST_1 + ST_2$$ "
   ]
  },
  {
   "cell_type": "markdown",
   "metadata": {},
   "source": [
    "# Null space (kernal) and ranges (image)"
   ]
  },
  {
   "cell_type": "markdown",
   "metadata": {},
   "source": [
    "## Null space and Injectivity"
   ]
  },
  {
   "cell_type": "markdown",
   "metadata": {},
   "source": [
    "> **Def. Kernal / null space, $\\text{null }T$**:\n",
    "> \n",
    "> for $T \\in \\mathcal L(V,W)$, the null space of T is the subset of V consisting of those vectors that T maps to 0:\n",
    "$$\\text{null } T = \\{v \\in V: Tv=0\\}$$"
   ]
  },
  {
   "cell_type": "markdown",
   "metadata": {},
   "source": [
    "- examples:\n",
    "    1. 0 is in the null space of every linear map\n",
    "    - $Dp=p', \\text{null }D = \\text{ the set of constant functions}$\n",
    "    - $(Tp)(x) = x^2p(x)$, the only polynomial p such $x^2p(x) = 0, \\forall x\\in R$ is the 0 polynomial, $\\text{null }T =\\{0\\}$."
   ]
  },
  {
   "cell_type": "markdown",
   "metadata": {},
   "source": [
    "- **the null space is a subspace**. $T \\in \\mathcal L(V,W), \\text{null }T \\text{ is a subspace of } V$\n",
    "    \n",
    "    **Proof**: $u, v \\in \\text{null }T$\n",
    "    - T)0) = 0, $0 \\in \\text{null }T$\n",
    "    - $T(u+v) = Tu + Tv = 0 \\to u+v\\in \\text{null }T$\n",
    "    - $T(\\lambda u) = \\lambda Tu = \\lambda 0 = 0 \\to \\lambda u \\in \\text{null }T$"
   ]
  },
  {
   "cell_type": "markdown",
   "metadata": {},
   "source": [
    "> **Def. injective / One-to-one (内射的/单射的)**:\n",
    "> \n",
    "> A function $T: V \\mapsto W$ is called **injective** if $Tu = Tv$ implies $u=v$\n",
    "> - T maps distinct inputs to distinct outputs."
   ]
  },
  {
   "cell_type": "markdown",
   "metadata": {},
   "source": [
    "- example:\n",
    "    1. **zero map** is not injective, since it maps any vector in V to 0 in W. 只有当$V=\\{0\\}$时, zero map is injective.\n",
    "    2. 上例2. is not injective, since constant function D maps any polynomial $\\mathcal P(R)$ to 0\n",
    "    3. 上例3. is injective. "
   ]
  },
  {
   "cell_type": "markdown",
   "metadata": {},
   "source": [
    "- **injectivity is equivalent to null spacee equals {0}**, dim null T = 0"
   ]
  },
  {
   "cell_type": "markdown",
   "metadata": {},
   "source": [
    "## Range (值域) and Surjectivity"
   ]
  },
  {
   "cell_type": "markdown",
   "metadata": {},
   "source": [
    "> **Def. range / image** [理解为T可以映射到的范围]\n",
    "> \n",
    "> For $T: V \\mapsto W$, the range of T is the subset of W consisting of those vectors that are of the form Tv for some $v\\in V$\n",
    "$$\\text{range }T = \\{Tv: v\\in T\\}$$"
   ]
  },
  {
   "cell_type": "markdown",
   "metadata": {},
   "source": [
    "- example\n",
    "    1. **zero map**: $T: V\\mapsto W, \\text{range }T = \\{0\\}$\n",
    "    - $T\\in \\mathcal L(R^2, R^3): T(x,y) = (2x, 5y, x+y)$, then $\\text{range }T = \\{(2x, 5y, x+y): x,y\\in R\\}$. A basis of this image is $(2,0,1), (0,5,1)$\n",
    "    - $D \\in \\mathcal L(\\mathcal P(R), \\mathcal P(R)), Dp = p'$, since every polynomial has a $p'$, so the range D is $\\mathcal P(R)$"
   ]
  },
  {
   "cell_type": "markdown",
   "metadata": {},
   "source": [
    "- The range is a subspace: $T \\in \\mathcal L(V,W), \\text{null }T \\text{ is a subspace of } W$, dim range T <= dim W"
   ]
  },
  {
   "cell_type": "markdown",
   "metadata": {},
   "source": [
    "> **Def. surjective (满射的)**\n",
    "> \n",
    "> A function $T: V \\mapsto W$ is called **surjective** if its range equals W"
   ]
  },
  {
   "cell_type": "markdown",
   "metadata": {},
   "source": [
    "- example:\n",
    "    1. zero map: 只有W={0}时, T是满射的\n",
    "    - 上例2. 不是满射的. 两个基向量无法构建$R^3$\n",
    "    - 上例3. 是满射的. 因为任何一个多项式都可以求得导数, 仍在$\\mathcal P(R)$中\n",
    "    - $D \\in \\mathcal (\\mathcal P_5(R), \\mathcal P_4(R))$ is surjective, since Dp maps to exactly $\\mathcal P_4(R)$"
   ]
  },
  {
   "cell_type": "markdown",
   "metadata": {},
   "source": [
    "## Fundamental Theorem of linear maps"
   ]
  },
  {
   "cell_type": "markdown",
   "metadata": {},
   "source": [
    "> Fundamental theorem of linear maps\n",
    "> \n",
    "> Suppose V is finite-dimensional and $T \\in \\mathcal L (V, W)$. Then **range T** is finite-dimensional and \n",
    "> $$\\dim V = \\dim \\text{null } T + \\dim \\text{range } T$$"
   ]
  },
  {
   "cell_type": "markdown",
   "metadata": {},
   "source": [
    "- maps to a smaller dimensional space is not injective \n",
    "\n",
    "    [example: 三维空间投影到一个平面]\n",
    "\n",
    "    **[injective --> null space ={0} --> dim null T should be 0]**\n",
    "    \n",
    "    dim null T = dim V - dim range T >= dim V - dim W > 0 ==> not injective\n",
    "    \n",
    "- maps to a larger dimensional space is not surjective\n",
    "\n",
    "    [example: 平面图形还原到三维空间]\n",
    "\n",
    "    **[surjective --> dim range T = dim W]**\n",
    "    \n",
    "    dim range T = dim V - dim null T <= dim V < dim W"
   ]
  },
  {
   "cell_type": "markdown",
   "metadata": {},
   "source": [
    "### Homogeneous\n",
    "\n",
    "- Homogeneous system of linear equations with **more variables** than equations has nonzero solutions\n",
    "    - $n>m, T: F^n \\mapsto F^m$, **maps to smaller space**, T not injective, null space nonzero, 因此有非零解\n",
    "    \n",
    "- inhomogeneous system of linear equations with **more equations** than variables has no solution for some choice of the constant terms.\n",
    "    - $n>m, T: F^n \\mapsto F^m$, **maps to larger space**, T not surjective, 由于T不是满射的, 因此对于$F^m$中的某些vecotrs就没有对应的映射, 即无法从V中找到解."
   ]
  },
  {
   "cell_type": "markdown",
   "metadata": {},
   "source": [
    "# Matrices"
   ]
  },
  {
   "cell_type": "markdown",
   "metadata": {},
   "source": [
    "## Definition"
   ]
  },
  {
   "cell_type": "markdown",
   "metadata": {},
   "source": [
    "> Def. matrix, $A_{j,k}$ the entry in row j and column k of the m-by-n matrix A"
   ]
  },
  {
   "cell_type": "markdown",
   "metadata": {},
   "source": [
    "> **Def. matrix of a linear map, $\\mathcal M(T)$**\n",
    ">\n",
    "> Suppose $T \\in \\mathcal L(V, W)$, and $v_1, \\dots, v_n$ is a **basis of V** and $w_1, \\dots, w_m$ is a **basis of W**. The matrix of T w.r.t. these bases is the m-by-n matrix $\\mathcal M(T)$ whose entries $A_{j,k}$ are defined by:\n",
    "$$Tv_k = A_{1,k}w_1 + \\cdots + A_{m,k}w_m$$\n",
    "> - Notation: $\\mathcal M(T, (v_1, \\dots, v_n), (w_1, \\dots, w_m))$\n",
    "$$\\mathcal M(T) = \\begin{array}{} & \\begin{array}{} v_1 & \\dots & v_k & \\dots v_n \\end{array} \\\\ \\begin{array}{} w_1\\\\ \\vdots \\\\ w_m \\end{array} & \\begin{bmatrix} & \\dots & A_{1,k} & \\dots &\\\\  & \\dots & \\vdots & \\dots &\\\\  & \\dots & A_{m,k} & \\dots &\\\\ \\end{bmatrix} \\end{array}$$"
   ]
  },
  {
   "cell_type": "markdown",
   "metadata": {},
   "source": [
    "- Notice that: \n",
    "    - T: 从n维的向量空间V, 映射到m维向量空间W, 两个空间的基分别为$(_1, \\dots, v_n), (w_1, \\dots, w_m)$. $Tv_k$即为将V空间中的第k个基向量在(映射到)W空间的基上的坐标表达.该坐标表达可以用W空间中的基向量的线性组合表示出来, 其中系数组成的向量即该坐标表达, 也即$\\mathcal M(T)$的第k列 [$v_k$分别在$w_1, \\dots, w_m$上的投影]\n",
    "    - 每个$v_k, w_j$都是一个向量.\n",
    "    - 现考虑m=n的情况, $\\mathcal M(T)$是一个方阵, 即旋转矩阵$\\mathcal M(T) = R$. 原坐标系构成的向量空间V, 和旋转后新坐标系构成的向量空间W, $R$第k列, 为新坐标系n个坐标轴向量分别在原坐标系第k个坐标轴上的投影. \n",
    "    - the k-th column of $\\mathcal M(T)$ consists of the scalars needed to write $Tv_k$ as a linear combination of $(w_1, \\dots, w_m)$\n",
    "    \n",
    "- Example:\n",
    "    - $T \\in \\mathcal L(F^2, F^3), T(x,y) = (x+3y, 2x+5y, 7x+9y)$. Matrix of T w.r.t. the standard bases of $F^2, F^3$ is\n",
    "        \n",
    "        T(1,0) = (1,2,7), 用W的基表示为1(1,0,0)+2(0,1,0)+7(0,0,1), 系数为1,2,7. T(0,1)=(3,5,9), 同理,系数为3,5,9. 将这两组系数写成$\\mathcal M(T)$\n",
    "        $$\\mathcal M(T) = \\begin{bmatrix} 1 & 3\\\\ 2 &5\\\\7 &9\\end{bmatrix}$$\n",
    "        可见, 当两个空间的基为标准正交基时, $M(T)$可以直接从T(x,y)的线性方程组中得到.\n",
    "        \n",
    "    - $D \\in \\mathcal L(\\mathcal P_3(R), \\mathcal P_2(R))$ is differential map $Dp = p'$. the matrix of D w.r.t. the standard bases of $\\mathcal P_3(R), \\mathcal P_2(R)$ is $$\\mathcal M(D) = \\begin{bmatrix} 0 & 1 & 0 & 0\\\\ 0 & 0 & 2 & 0\\\\0 & 0 & 0 & 3\\end{bmatrix}$$"
   ]
  },
  {
   "cell_type": "markdown",
   "metadata": {},
   "source": [
    "## Addition and Scalar multiplication"
   ]
  },
  {
   "cell_type": "markdown",
   "metadata": {},
   "source": [
    "> **Def. matrix addition**: two matrices of the same size A,C:\n",
    "> $$(A+C)_{j,k} = A_{j,k} + C_{j,k}$$"
   ]
  },
  {
   "cell_type": "markdown",
   "metadata": {},
   "source": [
    "> **Def. matrix scalar multiplication**:\n",
    "> $$(\\lambda A)_{j,k} = \\lambda A_{j,k}$$"
   ]
  },
  {
   "cell_type": "markdown",
   "metadata": {},
   "source": [
    "- matrix of the sum of linear maps: suppose S, T, S+T are based on the same pair of bases:\n",
    "$$\\mathcal M(S+T) = \\mathcal M(S) + \\mathcal M(T), \\qquad S,T\\in \\mathcal L(V,W)$$"
   ]
  },
  {
   "cell_type": "markdown",
   "metadata": {},
   "source": [
    "- matrix of [a scalar times a linear map]:\n",
    "$$\\mathcal M(\\lambda T) = \\lambda \\mathcal M(T), \\qquad \\forall \\lambda \\in F, T \\in \\mathcal L(V,W)$$"
   ]
  },
  {
   "cell_type": "markdown",
   "metadata": {},
   "source": [
    "> **Notation $F^{m,n}$** denotes the vector space with dimension $\\dim F^{m,n} = mn$, since the definition of addition and scalar multiplication above. 即所有元素属于F, 维度为 $m\\times n$ 矩阵的集合.\n",
    "> - m-by-n matrix: 只有一个元素为1, 其余元素为0, 这样的矩阵一共有mn个, 这些矩阵的全体组成了空间$F^{m,n}$的基, mn为维度"
   ]
  },
  {
   "cell_type": "markdown",
   "metadata": {},
   "source": [
    "## Multiplication of matrices"
   ]
  },
  {
   "cell_type": "markdown",
   "metadata": {},
   "source": [
    "> **Def. matrix multiplication**: A: m-by-n, C: n-by-p\n",
    "> $$(AC)_{j,k} = \\sum_{r=1}^n A_{j,r}C_{r,k} = A_{j,\\cdot}C_{\\cdot, k}$$"
   ]
  },
  {
   "cell_type": "markdown",
   "metadata": {},
   "source": [
    "- matrix of the product of linear map\n",
    "$$\\mathcal M(ST) = \\mathcal M(S)\\mathcal M(T),\\qquad S\\in \\mathcal L(V,W), T\\in \\mathcal L(U,V)$$"
   ]
  },
  {
   "cell_type": "markdown",
   "metadata": {},
   "source": [
    "- Notation: row j: $A_{j,\\cdot}$  column k: $A_{\\cdot, k}$\n",
    "- Column product: $$(AC)_{\\cdot,k} = AC_{\\cdot, k}$$\n",
    "- linear combination of columns: $$Ac = c_1a_1 + \\cdots + c_na_n, \\quad A=[a_1, \\cdots, a_n], a_k = A_{\\cdot,k},  c=\\begin{bmatrix} c_1 \\\\ \\vdots \\\\ c_n\\end{bmatrix}$$"
   ]
  },
  {
   "cell_type": "markdown",
   "metadata": {},
   "source": [
    "# Invertibility and isomorphic (同构的) vector spaces"
   ]
  },
  {
   "cell_type": "markdown",
   "metadata": {},
   "source": [
    "## Invertible Linear Maps"
   ]
  },
  {
   "cell_type": "markdown",
   "metadata": {},
   "source": [
    "> **Def. invertibel, inverse**:\n",
    "> - linear map $T\\in \\mathcal L(V,W)$ is **invertible** if there exists a linear map $S\\in \\mathcal L(W,V)$, such that ST equals the identity map ($ST=I$) on V and TS equals the identity map ($TS=I$) on W.\n",
    "> - $S$ is inverse of $T$.\n",
    "> - Notation: $S=T^{-1}$"
   ]
  },
  {
   "cell_type": "markdown",
   "metadata": {},
   "source": [
    "- **Inverse is <font color=\"blue\">unique</font>:** $S_1, S_2$ are inverse of T. then $S_1 = S_1I = S_1(TS_2) = (S_1T)S_2 = S_2$\n",
    "- **Invertibility is equivalent to injectivity and surjectivity**: <font color=\"blue\">invertibel $\\Leftrightarrow \\text{null }T=\\{0\\}, \\text{range }T=W$</font>\n",
    "    - A linear map is invertible iff it's injective and surjective.\n",
    "        - Proof: T is invertible --> injective, surjective: \n",
    "            - $u,v\\in V, Tu=Tv \\to u=T^{-1}(Tu) = T^{-1}(Tv) = v \\to $ injective\n",
    "            - $\\forall w\\in W, w=T(T^{-1}w) \\to \\text{range }T = W$\n",
    "        - Proof: injective, surjective --> invertible ..."
   ]
  },
  {
   "cell_type": "markdown",
   "metadata": {},
   "source": [
    "## Isomorphic Vector spaces"
   ]
  },
  {
   "cell_type": "markdown",
   "metadata": {},
   "source": [
    "> **Def. isomorphism, isomorphic**:\n",
    "> - An isomorphism is an invertible linear map\n",
    "> - 2 vector spaces are isomorphic if there is an isomorphism from one vector space onto the other one.\n",
    "> - \"isos\" = equal, \"morph\" = shape, **isomorphism = invertible linear map**, which means for $T\\in\\mathcal L(V,W), v\\in V, Tv\\in W$, V and W have the same vector space properties. However isomorphism emphasizes that the 2 spaces are essentially the same"
   ]
  },
  {
   "cell_type": "markdown",
   "metadata": {},
   "source": [
    "- Two finite-dim. vector spaces over F are isomorphic iff they have the **same dimension**\n",
    "    - isomorphism --> same dimension:\n",
    "        - isomorphism --> injective: dim null T=0, surjective: dim range T = dim W\n",
    "        - dim V = dim null T + dim range T = 0 + dim W = dim W\n",
    "    - same dimension --> isomorphism:\n",
    "        - linear map $T(c_1v_1 + \\cdots + c_nv_n) = c_1w_1 + \\cdots + c_nw_n$, since $v_j, w_j$分别是V,W的基, T is surjective because $w_1, ..., w_n$ spans W, null T={0} because $w_1, ..., w_n$ is linearly independent, thus T is injective."
   ]
  },
  {
   "cell_type": "markdown",
   "metadata": {},
   "source": [
    "- 由以上证明可以理解: 可逆的现行变换就是将向量空间的元素**重新标记**了一遍. **relabel**"
   ]
  },
  {
   "cell_type": "markdown",
   "metadata": {},
   "source": [
    "- $\\dim V = n \\to V, F^n$ are isomorphic"
   ]
  },
  {
   "cell_type": "markdown",
   "metadata": {},
   "source": [
    "- $\\mathcal L(V,W), F^{m,n}$ are isomorphic"
   ]
  },
  {
   "cell_type": "markdown",
   "metadata": {},
   "source": [
    "- $\\dim \\mathcal L(V,W) = (\\dim V)(\\dim W) = mn$"
   ]
  },
  {
   "cell_type": "markdown",
   "metadata": {},
   "source": [
    "## Linear maps thought of as Matrix multiplication"
   ]
  },
  {
   "cell_type": "markdown",
   "metadata": {},
   "source": [
    "> **Def. matrix of a vector, $\\mathcal M(v)$**:\n",
    "> \n",
    "> Suppose $v\\in V$ and $v_1, \\dots, v_n$ is a basis of V. the matrix of $v$ w.r.t. this basis is the n-by-1 matrix.\n",
    "> $$\\mathcal M(v) = \\begin{bmatrix} c_1 \\\\ \\vdots \\\\ c_n \\end{bmatrix}$$\n",
    "> such that [即v向量在V空间的一组基上的坐标表达]\n",
    "$$v = c_1v_1 + \\cdots + c_nv_n$$\n",
    "> **Notice**: 仅使用符号$\\mathcal M(v)$时, 基是上下文自明或者标准正交基. 而当使用符号 $\\mathcal M(v, (v_1, \\dots, v_n))$时, 需要指明这组基. "
   ]
  },
  {
   "cell_type": "markdown",
   "metadata": {},
   "source": [
    "- example: \n",
    "    - the matrix of $2-7x+5x^3$ w.r.t. standard basis of $\\mathcal P_3(R)$ is $\\begin{bmatrix} 2 \\\\-7\\\\0\\\\5\\end{bmatrix}$\n",
    "    - the matrix of vector $x\\in F^n$ w.r.t. standard basis is denoted directly by its coordinates $\\mathcal M(x) = \\begin{bmatrix} x_1 \\\\ \\vdots \\\\ x_n \\end{bmatrix}$"
   ]
  },
  {
   "cell_type": "markdown",
   "metadata": {},
   "source": [
    "- **线性映射的矩阵, 向量的矩阵的关系:**\n",
    "    \n",
    "    $T \\in \\mathcal L(V,W)$ and $v_1, \\dots, v_n$ is a basis of V, $w_1, \\dots, w_n$ is a basis of W. the k-th column of the matrix $\\mathcal M(T)$ is :\n",
    "$$\\mathcal M(T)_{\\cdot, k} = \\mathcal M(v_k)$$\n",
    "    \n",
    "    - j"
   ]
  },
  {
   "cell_type": "markdown",
   "metadata": {},
   "source": [
    "- **linear maps act like matrix multiplication: **\n",
    "    \n",
    "    $T \\in \\mathcal L(V,W)$ and $v_1, \\dots, v_n$ is a basis of V, $w_1, \\dots, w_n$ is a basis of W. then \n",
    "    $$\\mathcal M(Tv) = \\mathcal M(T)\\mathcal M(v), \\qquad \\forall v\\in V$$\n",
    "    \n",
    "    - 向量v经T变换至W空间后的坐标表达 = 线性映射T的矩阵 $\\times$ v向量的矩阵(v向量在V的基上的坐标表达)"
   ]
  },
  {
   "cell_type": "markdown",
   "metadata": {},
   "source": [
    "## Operators"
   ]
  },
  {
   "cell_type": "markdown",
   "metadata": {},
   "source": [
    "> **Def. Operator, $\\mathcal L(V)$**:\n",
    "> - a **<font color=\"green\">linear map from a vector space to itself</font>** is called an **operator**\n",
    "> - the notation $\\mathcal L(V)$ denotes the set of all operators on V. $\\mathcal L(V) = \\mathcal L(V,V)$"
   ]
  },
  {
   "cell_type": "markdown",
   "metadata": {},
   "source": [
    "- **injectivity is equivalent to surjectivity in finite dimensions**: \n",
    "\n",
    "    suppose V is finite-dim. and $T\\in \\mathcal L(V)$. then the following are equivalent: \n",
    "    \n",
    "    - T is invertible\n",
    "    - T is injective\n",
    "    - T is surjective"
   ]
  },
  {
   "cell_type": "markdown",
   "metadata": {},
   "source": [
    "# Products and quotients of vector spaces"
   ]
  },
  {
   "cell_type": "markdown",
   "metadata": {},
   "source": [
    "## Products of vector spaces"
   ]
  },
  {
   "cell_type": "markdown",
   "metadata": {},
   "source": [
    "> **Def. product of vector spaces**: \n",
    "> \n",
    "> Suppose $V_1, \\dots, V_m$ are vector spaces over F:\n",
    "> - the **product** $V_1\\times \\cdots V_m$ is defined by:\n",
    "$$V_1 \\times \\cdots \\times V_m = \\{(v_1, \\dots, v_m): v_1 \\in V_1, \\dots, v_m \\in V_m$$\n",
    "> - **Addition** on $V_1\\times \\dots \\times V_m$ is defined by:\n",
    "$$(u_1, \\dots, u_m) + (v_1, \\dots, v_m) = (u_1 + v_1, \\dots, u_m+v_m)$$\n",
    "> - **Scalar multiplication** on $V_1 \\times \\cdots \\times V_m$ is defined by\n",
    "$$\\lambda (v_1, \\dots, v_m) = (\\lambda v_1, \\dots, \\lambda v_m)$$"
   ]
  },
  {
   "cell_type": "markdown",
   "metadata": {},
   "source": [
    "- **product of vector spaces is a vector space**: $V_1 \\times \\cdots \\times V_m$ is a vector space over F."
   ]
  },
  {
   "cell_type": "markdown",
   "metadata": {},
   "source": [
    "- **dimension of a product is the sum of dimensions**\n",
    "$$\\dim (V_1\\times \\cdots \\times V_m) = \\dim V_1 + \\cdots + \\dim V_m$$"
   ]
  },
  {
   "cell_type": "markdown",
   "metadata": {},
   "source": [
    "- example: \n",
    "    \n",
    "    - $\\mathcal P_2(R) \\times R^3 = \\{(v_1, v_2): v_1\\in \\mathcal P_2(R), v_2 \\in R^3\\}$\n",
    "        - e.g. $(5-6x+4x^2, (3,8,7)) \\in \\mathcal P_2(R) \\times R^3$\n",
    "    \n",
    "    - $((x_1, x_2), (x_3, x_4, x_5)) \\in R^2\\times R^3 $ is not equal to $(x_1, x_2, x_3, x_4, x_5) \\in R^5$. but the linear map that takes a vector $((x_1, x_2), (x_3, x_4, x_5))$ to $(x_1, x_2, x_3, x_4, x_5)$ is an isomorphism of $R^2\\times R^3$ onto $R^5$\n",
    "    \n",
    "    - basis of $\\mathcal P_2(R) \\times R^2$, e.g. $(1, (0,0)), (x, (0,0)), (x^2, (0,0)), (0, (1,0)), (0, (0,1))$"
   ]
  },
  {
   "cell_type": "markdown",
   "metadata": {},
   "source": [
    "## Products and direct sums"
   ]
  },
  {
   "cell_type": "markdown",
   "metadata": {},
   "source": [
    "- Suppose $U_1, \\dots, U_m$ are subspaces of V. Define a linear map $\\Gamma: U_1 \\times \\cdots \\times U_m \\to U_1 + \\cdots + U_m$ by \n",
    "$$\\Gamma (u_1, \\dots, u_m) = u_1 + \\cdots + u_m$$\n",
    "then $U_1 + \\cdots + U_m$ is a direct sum iff $\\Gamma$ is injective"
   ]
  },
  {
   "cell_type": "markdown",
   "metadata": {},
   "source": [
    "- A sum is a direct sum iff dimensions add up:\n",
    "    \n",
    "    Suppose V is finite-dimensional and $U_1, \\dots, U_m$ are subspaces of V. Then $U_1 + \\cdots+ U_m$ is a direct sum iff \n",
    "    $$\\dim (U_1 + \\cdots + U_m) = \\dim U_1 + \\cdots + \\dim U_m$$"
   ]
  },
  {
   "cell_type": "markdown",
   "metadata": {},
   "source": [
    "## Quotients (商) of vector spaces"
   ]
  },
  {
   "cell_type": "markdown",
   "metadata": {},
   "source": [
    "> **Def. v+U**:\n",
    "> \n",
    "> Suppose $v\\in V$ and U is a subspace of V. Then $v+U$ is the subset of V defined by $$v+U = \\{v+u: u\\in U\\}$$"
   ]
  },
  {
   "cell_type": "markdown",
   "metadata": {},
   "source": [
    "- example: $U = \\{ (x, 2x) \\in R^2 : x\\in R\\}$ which is a line with slope 2 and goes through origin. then v=(2,0), v+U is a line with slope 2 and goes through (2,0) in the space $R^2$"
   ]
  },
  {
   "cell_type": "markdown",
   "metadata": {},
   "source": [
    "> **Def. affine subset, parallel**:\n",
    "> \n",
    "> - An **affine subset** of V is a subset of V of the form v+U for some $v\\in V$ and some subspace U of V.\n",
    "> - For $v\\in V$ and U a subspace of V, the affine subset v+U is said to be **parallel** to U."
   ]
  },
  {
   "cell_type": "markdown",
   "metadata": {},
   "source": [
    "> **Def. quotient space, V/U**:\n",
    "> \n",
    "> Suppose U is a subspace of V. Then the **quotient space** V/U is the set of all affine subsets of V parallel to U.\n",
    "$$V/U = \\{ v+U:v\\in V\\}$$"
   ]
  },
  {
   "cell_type": "markdown",
   "metadata": {},
   "source": [
    "- exmaples:\n",
    "    - $U=\\{(x,2x) \\in R^2: x\\in R\\}, R^2/U$ is the set of all lines in $R^2$ that have slope 2.\n",
    "    - U is a plane in $R^3$ containing the origin, then $R^3/U$ is the set of all planes in $R^3$ parallel to U."
   ]
  },
  {
   "cell_type": "markdown",
   "metadata": {},
   "source": [
    "- **Two affine subsets parallel to U are equal or disjoint (不相交)**:\n",
    "   \n",
    "   Suppose U is a subspace of V and $v,w\\in V$. The following are equivalent.\n",
    "   - $v-w \\in U$\n",
    "   - $v+U = w+U$\n",
    "   - $(v+U) \\cap (w+U) \\ne \\emptyset$"
   ]
  },
  {
   "cell_type": "markdown",
   "metadata": {},
   "source": [
    "> **Def. addition and scalar multiplication on V/U**:\n",
    "> \n",
    "> Suppose U is a subspace of V. Then addition and scalar multiplication are defined on V/U by: $\\forall v,w\\in V, \\lambda \\in F$\n",
    "> $$(v+U) + (w+U) = (v+w) + U\\\\\\lambda (v+U) = \\lambda v + U$$\n",
    "- **Quotient space is a vector space**"
   ]
  },
  {
   "cell_type": "markdown",
   "metadata": {},
   "source": [
    "> **Def. quotient map, $\\pi$:**\n",
    "> \n",
    "> Suppose U is a subspace of V. The **quotient map** is the linear map $\\pi: V \\mapsto V/U$ defined by: for $v\\in V$\n",
    "$$\\pi(v) = v+U,\\qquad $$"
   ]
  },
  {
   "cell_type": "markdown",
   "metadata": {},
   "source": [
    "- **Dimension of a quotient space** $$\\dim V/U = \\dim V - \\dim U$$"
   ]
  },
  {
   "cell_type": "markdown",
   "metadata": {},
   "source": [
    "> **Def. $\\tilde T$**\n",
    "> \n",
    "> Suppose $T \\in \\mathcal L(V,W)$. Define $\\tilde T: V/(\\text{null }T) \\mapsto W$ by $$\\tilde T(v + \\text{null }T) = Tv$$"
   ]
  },
  {
   "cell_type": "markdown",
   "metadata": {},
   "source": [
    "- **Null space and range of $\\tilde T$**\n",
    "    \n",
    "    suppose $T \\in \\mathcal L(V,W)$, then \n",
    "    - $\\tilde T$ is a linear map from $V/(\\text{null }T) \\mapsto W$\n",
    "    - $\\tilde T$ is injective\n",
    "    - $\\text{range }T = \\text{range }T$\n",
    "    - $V/(\\text{null }T) $ is isomorphic to range T"
   ]
  },
  {
   "cell_type": "markdown",
   "metadata": {},
   "source": [
    "# Duality 对偶性"
   ]
  },
  {
   "cell_type": "markdown",
   "metadata": {},
   "source": [
    "## The Dual space and the dual map"
   ]
  },
  {
   "cell_type": "markdown",
   "metadata": {},
   "source": [
    "> **Def. lienar functional 线性泛函, dual space**\n",
    "> \n",
    "> a **linear functional ** on V is a linear map from V to F. dual space is the set of all such functionals: $\\mathcal L(V, F)$\n",
    ">\n",
    "> - **Notation**: **dual space** of V: $V' = \\mathcal L(V, F)$"
   ]
  },
  {
   "cell_type": "markdown",
   "metadata": {},
   "source": [
    "- examples:\n",
    "    - $\\varphi : R^3\\mapsto R: \\varphi(x,y,z) = 4x-5y+2z$. linear functional on $R^3$\n",
    "    - $\\varphi : F^n\\mapsto F: \\varphi(x_1, \\dots, x_n) = c_1x_1 + \\cdots + c_nx_n$, linear functional on $F^n$\n",
    "    - $\\varphi : \\mathcal P(R) \\mapsto R: \\varphi(p) = \\int_0^1p(x)dx$, linear functional on $\\mathcal P(R)$"
   ]
  },
  {
   "cell_type": "markdown",
   "metadata": {},
   "source": [
    "- $\\dim V' = \\dim V$"
   ]
  },
  {
   "cell_type": "markdown",
   "metadata": {},
   "source": [
    "> **Def. dual basis**:\n",
    "> \n",
    "> if $v_1, \\dots, v_n$ is a basis of V, then the dual basis of it is the list $\\varphi_1, \\dots, \\varphi_n$ of elements of $V'$, where each $\\varphi_j$ is the <font color=\"orange\">**linear functional**</font> on V such that\n",
    "$$\\varphi_j(v_k) = \\begin{cases}  1 & \\text{if }k=j\\\\ 0&\\text{if }k\\ne j\\end{cases}$$\n",
    "> - dual basis is a basis of dual space\n",
    "    - suppose $a_1, \\dots, a_n \\in F$ such that $a_1\\varphi_1 + \\cdots + a_n\\varphi_n = 0$\n",
    "    \n",
    ">    then $(a_1\\varphi_1 + \\cdots + a_n\\varphi_n)(v_j) = a_j = 0, \\forall j \\rightarrow a_1=\\cdots = a_n = 0 \\to $ linearly independent. dim=n, so it is basis of V'"
   ]
  },
  {
   "cell_type": "markdown",
   "metadata": {},
   "source": [
    "- <font color=\"gray\">\n",
    "example: the dual basis of standard basis $e_1, \\dots, e_n$ of $F^n$: \n",
    "    \n",
    "    $1 \\le j \\le n, \\varphi_j$ be the j-th linear functional on $F^n$, such that for $v = (x_1, \\dots, x_n) \\in F^n$, $$\\varphi (x_1, \\dots, x_n) = x_j$$ then clearly $$\\varphi_j(e_k) = \\begin{cases} 1 & \\text{if } k=j\\\\0 & \\text{if } k\\ne j\\end{cases}$$\n",
    "    this kind of $\\varphi_1, \\dots, \\varphi_n$ is the dual basis\n",
    "</font>"
   ]
  },
  {
   "cell_type": "markdown",
   "metadata": {},
   "source": [
    "> **Def. dual map, $T'$**\n",
    "> \n",
    "> If $T\\in \\mathcal L(V,W)$, then the dual map of T is the linear map $T' \\in \\mathcal L(W', V')$ defined by $T'(\\varphi) = \\varphi \\circ T$ for $\\varphi \\in W'$"
   ]
  },
  {
   "cell_type": "markdown",
   "metadata": {},
   "source": [
    "- exmaple: Define $D: \\mathcal P(R) \\mapsto \\mathcal p(R), Dp = p'$\n",
    "    - linear function on $\\mathcal P(R): \\varphi(p) = p(3)$. Then $D'(\\varphi)$ is the linear functional on $\\mathcal P(R)$ $$(D'(\\varphi))(p) = (\\varphi \\circ D)(p) = \\varphi (Dp) = \\varphi (p') = p'(3)$$\n",
    "    - linear function on $\\mathcal P(R): \\varphi(p) = \\int_0^1 p$. Then $D'(\\varphi)$ is the linear functional on $\\mathcal P(R)$ given by: $$(D'(\\varphi))(p) = (\\varphi \\circ D)(p) = \\varphi (Dp) = \\varphi (p') = \\int_0^1 p' = p(1) - p(0)$$"
   ]
  },
  {
   "cell_type": "markdown",
   "metadata": {},
   "source": [
    "- algebraic properties of dual maps:\n",
    "    - $(S+T)' = S' + T', \\forall S,T \\in \\mathcal L(V,W)$\n",
    "    - $(\\lambda T)' = \\lambda T', \\forall \\lambda \\in F, \\forall T \\in \\mathcal L(V,W)$\n",
    "    - $(ST)' = T'S', \\forall T \\in \\mathcal L(U,V), \\forall S\\in \\mathcal L(V,W)$"
   ]
  },
  {
   "cell_type": "markdown",
   "metadata": {},
   "source": [
    "## The null space and range of the dual of a linear map"
   ]
  },
  {
   "cell_type": "markdown",
   "metadata": {},
   "source": [
    "> **Def. annihilator 湮灭者 $U^0$**\n",
    "> \n",
    "> For $U \\subset V$, the **annihilator** of U, denoted $U^0$, is defined by: $$U^0 = \\{ \\varphi \\in V': \\varphi(u) = 0, \\forall u\\in U\\}$$\n",
    "> - for $U \\subset V, U^0$ is a subset and **subspace** of the dual space $V'$. $U^0$即对偶空间V'中使U中元素u映射到0的所有泛函的集合, 因此是对偶空间的子集."
   ]
  },
  {
   "cell_type": "markdown",
   "metadata": {},
   "source": [
    "- example: \n",
    "    - U is the subspace of $\\mathcal P(R)$ consisting of all polynomials multiplies of $x^2$. if $\\varphi$ is the linear functional on $\\mathcal P(R)$ defined by $\\varphi(p) = p'(0)$, then $\\varphi \\in U^0$\n",
    "    - let $e_1, \\dots, e_5$ be the standard basis of $R^5$ and let $\\varphi_1,\\dots, \\varphi_5$ be dual basis of $(R^5)'$. suppose $U= \\text{span}(e_1, e_2) = \\{ (x_1, x_2, 0,0,0) \\in R^5: x_1, x_2\\in R\\}$ -----> $U^0 = span(\\varphi_3, \\varphi_4, \\varphi_5)$"
   ]
  },
  {
   "cell_type": "markdown",
   "metadata": {},
   "source": [
    "- **Dimension of annihilator** $$\\dim U + \\dim U^0 = \\dim V$$"
   ]
  },
  {
   "cell_type": "markdown",
   "metadata": {},
   "source": [
    "- **Null space of $T'$**\n",
    "\n",
    "    suppose V and W are finite-dimensional and $T \\in \\mathcal (V,W)$. then \n",
    "    - null $T'$ = (range T)${}^0$\n",
    "    - dim null T' = dim null T + dim W - dim V"
   ]
  },
  {
   "cell_type": "markdown",
   "metadata": {},
   "source": [
    "- T surjective is equivalent to $T'$ injective\n",
    "- range of $T'$:\n",
    "    - dim range $T'$ = dim range T\n",
    "    - range $T'$ = (null T)${}^0$\n",
    "\n",
    "- T injective is equivalent to $T'$ surjective"
   ]
  },
  {
   "cell_type": "markdown",
   "metadata": {},
   "source": [
    "## Matrix of the dual of a linear map"
   ]
  },
  {
   "cell_type": "markdown",
   "metadata": {},
   "source": [
    "> **Def. transpose $A^t$**\n",
    "> \n",
    "> A is an m-by-n matrix: $$(A^t)_{k,j} = A_{j,k}$$\n",
    "> - algebraic properties: \n",
    "    - $(A+C)^t = A^t + C^t$\n",
    "    - $(\\lambda A)^t = \\lambda A^t$"
   ]
  },
  {
   "cell_type": "markdown",
   "metadata": {},
   "source": [
    "- transpose of the product of matrices: $$(AC)^t = C^tA^t$$"
   ]
  },
  {
   "cell_type": "markdown",
   "metadata": {},
   "source": [
    "- Matrix of $T'$ is the transpose of the matrix of T.\n",
    "    - $v_1, \\dots, v_n$ is basis of V, $w_1, \\dots, w_m$ is basis of W\n",
    "    - $\\varphi_1, \\dots, \\varphi_n$ is basis of $V'$, $\\psi_1, \\dots, \\psi_m$ is basis of $W'$\n",
    "    - $T: V\\mapsto W, \\quad T': W' \\mapsto V'$\n",
    "    - $$\\mathcal M(T') = (\\mathcal M(T))^t$$"
   ]
  },
  {
   "cell_type": "markdown",
   "metadata": {},
   "source": [
    "## The rank of a matrix"
   ]
  },
  {
   "cell_type": "markdown",
   "metadata": {},
   "source": [
    "> **Def. row rank, column rank**:\n",
    "> Suppose A is an m-by-n matrix with entries in F. \n",
    "> - the row rank of A is dimension of the span of the rows of A in $F^{1,n}$\n",
    "> - the column rank of A is the dimension of the span of the columns of A in $F^{m,1}$"
   ]
  },
  {
   "cell_type": "markdown",
   "metadata": {},
   "source": [
    "- Dimension of range T equals column rank of $\\mathcal M(T)$\n",
    "- row rank equals column rank for $A \\in F^{m,n}$"
   ]
  },
  {
   "cell_type": "markdown",
   "metadata": {},
   "source": [
    "> **Def. rank**: the rank of a matrix $A\\in F^{m.n}$ is the column rnak of A"
   ]
  },
  {
   "cell_type": "markdown",
   "metadata": {},
   "source": [
    "# Question"
   ]
  },
  {
   "cell_type": "markdown",
   "metadata": {},
   "source": [
    "1. 商空间V/U是不是将U空间按照v平移??"
   ]
  }
 ],
 "metadata": {
  "kernelspec": {
   "display_name": "Python 3",
   "language": "python",
   "name": "python3"
  },
  "language_info": {
   "codemirror_mode": {
    "name": "ipython",
    "version": 3
   },
   "file_extension": ".py",
   "mimetype": "text/x-python",
   "name": "python",
   "nbconvert_exporter": "python",
   "pygments_lexer": "ipython3",
   "version": "3.6.0"
  },
  "latex_envs": {
   "LaTeX_envs_menu_present": true,
   "autocomplete": true,
   "bibliofile": "biblio.bib",
   "cite_by": "apalike",
   "current_citInitial": 1,
   "eqLabelWithNumbers": true,
   "eqNumInitial": 1,
   "hotkeys": {
    "equation": "Ctrl-E",
    "itemize": "Ctrl-I"
   },
   "labels_anchors": false,
   "latex_user_defs": false,
   "report_style_numbering": false,
   "user_envs_cfg": false
  },
  "toc": {
   "colors": {
    "hover_highlight": "#DAA520",
    "running_highlight": "#FF0000",
    "selected_highlight": "#FFD700"
   },
   "moveMenuLeft": true,
   "nav_menu": {
    "height": "242px",
    "width": "252px"
   },
   "navigate_menu": true,
   "number_sections": true,
   "sideBar": true,
   "threshold": 4,
   "toc_cell": false,
   "toc_section_display": "block",
   "toc_window_display": true,
   "widenNotebook": false
  }
 },
 "nbformat": 4,
 "nbformat_minor": 2
}

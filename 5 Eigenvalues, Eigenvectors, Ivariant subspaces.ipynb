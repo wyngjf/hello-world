{
 "cells": [
  {
   "cell_type": "markdown",
   "metadata": {},
   "source": [
    "# Invariant Subspace\n",
    "\n",
    "helps to understand the structure of operators."
   ]
  },
  {
   "cell_type": "markdown",
   "metadata": {},
   "source": [
    "suppose $T \\in \\mathcal L(V)$ is an operator on V, which means that $T:V\\mapsto V$. and direct sum decomposition is $$V = U_1 \\oplus \\cdots \\oplus U_m$$\n",
    "\n",
    "$T|_{U_j}$ denotes the restriction of T to the smaller domain $U_j$ rather than the whole space V. If T is also an operator on $U_j$, then $T:U_j \\mapsto U_j$ must be fulfilled."
   ]
  },
  {
   "cell_type": "markdown",
   "metadata": {},
   "source": [
    "## Definition"
   ]
  },
  {
   "cell_type": "markdown",
   "metadata": {},
   "source": [
    "> **Def. invariant subspace**:\n",
    "> \n",
    "> Suppose $T \\in \\mathcal L(V)= \\mathcal L(V,V)$. A subspace U of V is called **invariant** under T if $u \\in U$ implies $Tu\\in U$\n",
    "> - U is invariant under T if $T|_U$ is an operator on U."
   ]
  },
  {
   "cell_type": "markdown",
   "metadata": {},
   "source": [
    "- examples: Suppose $T\\in \\mathcal L(V)$\n",
    "    - {0}: $u\\in \\{0\\} \\to u=0, \\to Tu=0\\in \\{0\\}$\n",
    "    - V: $u\\in V. \\to Tu\\in V$\n",
    "    - null T (={0}): $u\\in \\text{null }T, \\to Tu=0\\in \\text{null }T$\n",
    "    - range T (=V): $u\\in \\text{range }T = V, \\to Tu\\in V$\n",
    "   "
   ]
  },
  {
   "cell_type": "markdown",
   "metadata": {},
   "source": [
    "- example: \n",
    "    $T \\in \\mathcal L(\\mathcal P(R)): Tp=p'$, then $\\mathcal P_4(R)$ is a subspace of $\\mathcal P(R)$, and is invariant under T, coz if $p\\in \\mathcal P(R)$ has degree at most 4, then $p'$ also has degree at most 4."
   ]
  },
  {
   "cell_type": "markdown",
   "metadata": {},
   "source": [
    "## Eigenvalues and Eigenvectors"
   ]
  },
  {
   "cell_type": "markdown",
   "metadata": {},
   "source": [
    "### Motivation\n",
    "\n",
    "**<font color=\"orange\">invariant subspaces with dimension 1</font>**: take any $v\\in V, v\\ne 0$ and let $U=\\{\\lambda v: \\lambda \\in F\\} = \\text{span}(v)$ be the 1-D subspace of V.if U is invariant under an operator $T \\in \\mathcal L(V)$, then $Tv\\in U$. and Hence there is a scalar $\\lambda \\in F$ such that:\n",
    "<font color=\"orange\">$$Tv=\\lambda v$$</font>"
   ]
  },
  {
   "cell_type": "markdown",
   "metadata": {},
   "source": [
    "### Definitions"
   ]
  },
  {
   "cell_type": "markdown",
   "metadata": {},
   "source": [
    "> **Def. Eigenvalue**\n",
    "> \n",
    "> Suppose $T \\in \\mathcal L(V)$, A number $\\lambda \\in F$ is an **<font color=\"blue\">eigenvalue of T</font>** if there exists $v\\in V$ such that \n",
    "$$Tv=\\lambda v, \\qquad v\\ne 0$$"
   ]
  },
  {
   "cell_type": "markdown",
   "metadata": {},
   "source": [
    "- notice: 条件$v\\ne 0$很重要,因为v=0时, 任意的$\\lambda$都满足上式.\n",
    "- T has a 1-D invariant subspace iff T has an eigenvalue.\n",
    "- **Equivalent conditions to be an eigenvalue**:\n",
    "    - $\\lambda $ is an eigenvalue of T\n",
    "    - $T - \\lambda I$ is not injective, [injective --> null space = {0}, here null space = {0, v}]\n",
    "    - $T - \\lambda I$ is not surjective\n",
    "    - $T - \\lambda I$ is not invertible"
   ]
  },
  {
   "cell_type": "markdown",
   "metadata": {},
   "source": [
    "> **Def. eigenvector**\n",
    "> \n",
    "> Suppose $T \\in \\mathcal L(V), \\lambda \\in F$ is an eigenvalue of T. A vector $v\\in V$ is **<font color=\"blue\">eigenvector of T </font>** corresponding to $\\lambda$ if $$Tv = \\lambda v, \\qquad v\\ne 0$$"
   ]
  },
  {
   "cell_type": "markdown",
   "metadata": {},
   "source": [
    "- example: suppose $T \\in \\mathcal L(F^2): T(w,z) = (-z,w)$\n",
    "    - if F=R. there is no eigenvalues and eigenvector. coz vector v=(w,z) is rotated by 90 degrees and cannot be reached by multiply a scalar in R.\n",
    "    - if F=C. $\\lambda_1 = i, \\lambda_2 = -i, v_1=(w,-wi), v_2=(w,wi)$"
   ]
  },
  {
   "cell_type": "markdown",
   "metadata": {},
   "source": [
    "- linearly independent eigenvectors:\n",
    "    - Suppose $\\lambda_1, \\dots, \\lambda_m$ are distinct eigenvalues of T and $v_1, \\dots, v_m$ are corresponding eigenvalues. Then $v_1, \\dots, v_m$ is linearly independent."
   ]
  },
  {
   "cell_type": "markdown",
   "metadata": {},
   "source": [
    "- Number of eigenvalues:\n",
    "    - Suppose V is finite-dimensional. Then **each operator on V has at most dim V distinct eigenvalues**."
   ]
  },
  {
   "cell_type": "markdown",
   "metadata": {},
   "source": [
    "## Restriction and Quotient Operations"
   ]
  },
  {
   "cell_type": "markdown",
   "metadata": {},
   "source": [
    "> **Def. $T|_U$ and $T/U$ [T模U: 商空间]**\n",
    "> \n",
    "> Suppose $T \\in \\mathcal L(V)$ and U is a subspace of V invariant under T.\n",
    "> - The **restriction operator** $T|_U \\in \\mathcal L(U)$ is defined: $$T|_U(u) = Tu, \\forall u\\in U$$\n",
    "> - The **quotient operator** $T/U \\in \\mathcal L(V/U)$ is defined by $$(T/U)(v+U) = Tv+U, \\forall v\\in V$$"
   ]
  },
  {
   "cell_type": "markdown",
   "metadata": {},
   "source": [
    "- 商空间的一个例子:\n",
    "    - 考虑一个均匀的(电)势场V, 其中的0等势面是一个线性子空间U, 在这个子空间U上, 所有点的电势相同, 这些点构成一个等价类. V/U是一个商空间. 即把U即与U平面平行的所有平面当作一个个元素, 从V中商掉U后, 就只剩下了一维的向量空间了, 也就是说, 电势大小只依赖于这个一维方向, 等势的方向被商掉了."
   ]
  },
  {
   "cell_type": "markdown",
   "metadata": {},
   "source": [
    "- example: Define an operator $T \\in \\mathcal L(F^2): T(x,y)=(y,0)$, Let $U = \\{ (x,0): x\\in F\\}$. Show that\n",
    "    - U is invariant under T and $T|_U$ is the 0 operator on U.\n",
    "        - $u=(x,0) \\in U, \\to T(x,0)=(0,0)\\in U$, thus U is invariant under T and $T|_U$ is the 0 operator on U\n",
    "    - there does not exist a subspace W of $F^2$ that is invariant under T and such that $F^2 = U\\oplus W$\n",
    "        - suppose W is subspace of V such that $F^2 = U\\oplus W$, dim W = dim $F^2$ - dim U = 2-1=1. If W is invariant, that is, there is an eigenvector in W. However, all eigenvalues are 0 and all eigenvectors should be in U, so no eigenvectors in W. Thus there is no such W.\n",
    "    - $T/U$ is the 0 operator on $F^2/U$\n",
    "        - for $(x,y)\\in F^2$, $(T/U)((x,y) + U) = T(x,y)+U = (y,0) + U = 0 + U$, where the last equality holds because $(y,0) \\in U$. --> T/U is the 0 operator"
   ]
  },
  {
   "cell_type": "markdown",
   "metadata": {},
   "source": [
    "# Eigenvectors and Upper-Triangular Matrices"
   ]
  },
  {
   "cell_type": "markdown",
   "metadata": {},
   "source": [
    "## Polynomials applied to Operators"
   ]
  },
  {
   "cell_type": "markdown",
   "metadata": {},
   "source": [
    "> **Def. $T^m$**\n",
    "> \n",
    "> Suppose $T\\in \\mathcal L(V)$ and m is a positive integer.\n",
    "> - $T^m$ is defined by $$T^m = \\underbrace{T\\cdots T}_{m \\text{ times}}$$\n",
    "> - $T^0$ is defined to be the identity operator I on V\n",
    "> - if T is invertible with inverse $T^{-1}$, then $T^{-m}$ is defined by $$T^{-m} =(T^{-1})^m$$"
   ]
  },
  {
   "cell_type": "markdown",
   "metadata": {},
   "source": [
    "- If T is an **<font color=\"blue\">operator</font>**, then $$T^mT^n = T^{m+n}, \\quad (T^m)^n = T^{mn}$$"
   ]
  },
  {
   "cell_type": "markdown",
   "metadata": {},
   "source": [
    "> **Def. $p(T)$**\n",
    "> \n",
    "> Suppose $T\\in \\mathcal L(V), p\\in \\mathcal P(F)$ is a polynomial given by $p(z) = a_0 + a_1z+a_2z^2 + \\cdots + a_mz^m, z\\in F$. then p(T) is the **<font color=\"blue\">operator</font>** defined by:\n",
    "$$p(T) = a_0I + a_1T + a_2T^2 + \\cdots + a_mT^m$$\n",
    "\n",
    "- notice: 此处将多项式建立在operator上, 而不是以前F中元素上."
   ]
  },
  {
   "cell_type": "markdown",
   "metadata": {},
   "source": [
    "- example: since p(T) is also an operator, it can also run an operation:\n",
    "    - suppose $D\\in \\mathcal L(\\mathcal P(R)): Dq = q'$. Now consider a polynomial $p(x) = 7-3x+5x^2 \\in \\mathcal P(R)$. Then $$p(D) = 7I -3D + 5D^2$$ thus $$(p(D))(q) = (7I -3D + 5D^2)(q) = 7q - 3q' + 5q'', \\qquad \\forall q\\in \\mathcal P(R)$$"
   ]
  },
  {
   "cell_type": "markdown",
   "metadata": {},
   "source": [
    "> **Def. product of polynomials**\n",
    "> \n",
    "> If $p,q\\in \\mathcal P(F)$, then $pq\\in \\mathcal P(F)$ is the polynomial defined by $$(pq)(z) = p(z)q(z), \\quad z\\in F$$"
   ]
  },
  {
   "cell_type": "markdown",
   "metadata": {},
   "source": [
    "- multiplicative properties:\n",
    "    \n",
    "    Suppose $p,q\\in \\mathcal P(F), T\\in \\mathcal L(V)$. then\n",
    "    - (pq)(T) = p(T)q(T)\n",
    "    - p(T)q(T) = q(T)p(T)"
   ]
  },
  {
   "cell_type": "markdown",
   "metadata": {},
   "source": [
    "## Existence of Eigenvalues"
   ]
  },
  {
   "cell_type": "markdown",
   "metadata": {},
   "source": [
    "- **Operators on finite-dim., nonzero, complex vector space have an eigenvalue**\n",
    "    \n",
    "    Proof: V is complex space with n>0 and $T\\in \\mathcal L(V), v\\ne 0\\in V$ and the list of n+1 vectors in n-dim space: $$v, Tv, T^2, \\dots, T^nv$$ is not linearly independent. so coeff. are not all 0 such that \n",
    "    $$0 = a_0v + a_1Tv + \\cdots + a_nT^nv$$\n",
    "    Note that $a_1, \\dots, a_n$ cannot all be 0, otherwise it forces $a_0 =0$. so there exists a factorization:\n",
    "    $$a_0 + a_1z + \\cdots + a_nz^n = c(z-\\lambda_1) \\cdots (z-\\lambda_m), m\\le n, c\\ne 0 \\in C, \\lambda_j \\in C, \\forall z\\in C$$. Thus \n",
    "    $$\\begin{align*} 0 & = a_0v + a_1Tv + \\cdots + a_nT^nv \\\\ &= (a_0I + a_1T + \\cdots a_nT)v \\\\ &= c(T-\\lambda_1 I) \\cdots (T-\\lambda_m I)v\\end{align*}$$\n",
    "    thus $T-\\lambda_j I$ is not injective for at least one j. In other words, T has an eigenvalue.\n",
    "    \n",
    "    因为至少有一个系数不为零, 因此至少有一个 $T-\\lambda_j I$ 不是injective, 即至少有一个 $(T-\\lambda_j I)v=0$, 那么就有至少一个特征根"
   ]
  },
  {
   "cell_type": "markdown",
   "metadata": {},
   "source": [
    "## Upper-Triangular Matrices"
   ]
  },
  {
   "cell_type": "markdown",
   "metadata": {},
   "source": [
    "> **Def. matrix of an operator, $\\mathcal M(T, (v_1, \\dots, v_n))$**: 方阵:\n",
    "> $$Tv_k = A_{1,k}v_1 + \\cdots + A_{n,k}v_n, \\qquad T \\in \\mathcal L(V,V)$$"
   ]
  },
  {
   "cell_type": "markdown",
   "metadata": {},
   "source": [
    "- example: Def. $T\\in \\mathcal L(F^3): T(x,y,z) = (2x+y, 5y+3z, 8z), (v_1, v_2, v_3)$ is the standard basis. then\n",
    "    \n",
    "    $Tv_1 = (2, 0, 0) = 2v_1 + 0v_2 + 0v_3$, analoge for $Tv_2, Tv_3$, we get\n",
    "    $$\\mathcal M(T) = \\begin{bmatrix} 2 & 1 & 0 \\\\ 0 & 5 & 3\\\\ 0 & 0 & 8\\end{bmatrix}$$"
   ]
  },
  {
   "cell_type": "markdown",
   "metadata": {},
   "source": [
    "> **Def. diagonal of a matrix**:\n",
    "> \n",
    "> the diagonal of a **square matrix ** consist of the entries along the line from the upper left corner to the bottom right corner."
   ]
  },
  {
   "cell_type": "markdown",
   "metadata": {},
   "source": [
    "> **Def. upper-triangle matrix**:\n",
    "> \n",
    "> If all entries below the diagonal is 0"
   ]
  },
  {
   "cell_type": "markdown",
   "metadata": {},
   "source": [
    "- **Conditions for upper-triangular matrix**:\n",
    "    \n",
    "    Suppose $T \\in \\mathcal L(V), (v_1, \\dots, v_n)$ is basis of V. then the following are equivalent:\n",
    "    - <font color=\"red\">the matrix of T w.r.t. $v_1, \\dots, v_n$ is upper triangular.</font>????\n",
    "    - $Tv_j \\in \\text{span}(v_1, \\dots, v_j)$ for each $j=1, \\dots, n$\n",
    "    - $\\text{span}(v_1, \\dots, v_n)$ is invariant under T for each $j=1,\\dots, n$"
   ]
  },
  {
   "cell_type": "markdown",
   "metadata": {},
   "source": [
    "- **Over C, every operator has an upper-triangular matrix**:\n",
    "    \n",
    "    Suppose V is a finite-dimensional complex vector space and $T\\in \\mathcal L(V)$. Then T has an upper-triangular matrix w.r.t. some basis of V.\n",
    "    \n",
    "- **Determinant fo invertibility from upper-triangular matrix**:\n",
    "    \n",
    "    Suppose $T\\in \\mathcal L(V)$ has an upper-triangular matrix w.r.t. some basis of V. Then T is **invertible** iff all the entries on the diagonal of the upper-triangular matrix are nonzero.\n",
    "    \n",
    "    $$\\mathcal M(T) = \\begin{bmatrix} \\lambda_1 & &&*\\\\ & \\lambda_2 & & \\\\ & &  \\ddots & \\\\ 0 & & & \\lambda_n\\end{bmatrix}, \\quad \\lambda_j \\ne 0$$\n",
    "    \n",
    "- <font color=\"darkgreen\">there is no method for exactly computing the eigenvalues of an operator from its matrix. However there are powerful numeric techniques</font>"
   ]
  },
  {
   "cell_type": "markdown",
   "metadata": {},
   "source": [
    "- **Determination of eigenvalues from upper-triangular matrix**:\n",
    "    \n",
    "    Suppose $T\\in \\mathcal L(V)$ has an upper-triangular matrix w.r.t. some basis of V. Then the eigenvalues of T are precisely the entries on the diagonal of that upper-triangular matrix."
   ]
  },
  {
   "cell_type": "markdown",
   "metadata": {},
   "source": [
    "- example: the example above, T has eigenvalues 2, 5, 8"
   ]
  },
  {
   "cell_type": "markdown",
   "metadata": {},
   "source": [
    "# Eigenspaces and Diagonal Matrices"
   ]
  },
  {
   "cell_type": "markdown",
   "metadata": {},
   "source": [
    "> **Def. diagonal matrix**:\n",
    "> \n",
    "> A diagonal matrix is a squre matrix that is 0 everywhere except possibly along the diagonal."
   ]
  },
  {
   "cell_type": "markdown",
   "metadata": {},
   "source": [
    "> **Def. eigenspace $E(\\lambda, T)$:**\n",
    "> \n",
    "> Suppose $T \\in \\mathcal L(V), \\lambda \\in F$. <font color=\"blue\">**The eigenspace of T corresponding to $\\lambda$**</font>:\n",
    "$$E(\\lambda, T) = \\text{null}(T-\\lambda I)$$\n",
    "> In other words, $E(\\lambda, T)$ is the **set of all eigenvectors** of T corresponding to $\\lambda$, **along with the 0 vector.**\n",
    "> - eigenspace is a **subspace of V** (null space of each linear map on V is a subspace of V)\n",
    "> - $\\lambda$ is an eigenvalue of T iff $E(\\lambda, T) \\ne \\{0\\}$"
   ]
  },
  {
   "cell_type": "markdown",
   "metadata": {},
   "source": [
    "- **Sum of eigenspaces is a direct sum**:\n",
    "    \n",
    "    finite-dim. V. $T \\in \\mathcal L(V), \\lambda_1, \\dots, \\lambda_m$ are distinct eigenvalues of T. Then $$E(\\lambda_1, T) + \\cdots + E(\\lambda_m, T)$$ is a direct sum. \n",
    "    $$\\dim E(\\lambda_1, T) + \\cdots + \\dim E(\\lambda_m, T) \\le \\dim V$$"
   ]
  },
  {
   "cell_type": "markdown",
   "metadata": {},
   "source": [
    "> **Def. diagonalizable**:\n",
    "> \n",
    "> An operator $T \\in \\mathcal L(V)$ is called diagonalizable if the operator has a diagonal matrix w.r.t. some basis of V."
   ]
  },
  {
   "cell_type": "markdown",
   "metadata": {},
   "source": [
    "- example: $T\\in \\mathcal L(R^2): T(x,y) = (41x+7y, -20x+74y)$. \n",
    "    - matrix of T w.r.t. standard basis of $R^2$ is $\\begin{bmatrix} 41 & 7\\\\-20 & 74 \\end{bmatrix}$\n",
    "    - but w.r.t. (1,4),(7,5). matrix of T is diagonal $\\begin{bmatrix} 69 & 0\\\\0 & 46 \\end{bmatrix}$"
   ]
  },
  {
   "cell_type": "markdown",
   "metadata": {},
   "source": [
    "- **conditions equivalent to diagonalizability**:\n",
    "    \n",
    "    finite-dim. V. $T \\in \\mathcal L(V), \\lambda_1, \\dots, \\lambda_m$ are distinct eigenvalues of T.\n",
    "    - T is diagonalizable\n",
    "    - V has a basis consisting of eigenvectors of T\n",
    "    - there exist 1-D subspaces $U_1, \\dots, U_n$ of V, each invariant under T, such that $$V = U_1 \\oplus \\cdots \\oplus U_n$$\n",
    "    - $V = E(\\lambda_1, T) \\oplus \\cdots \\oplus E(\\lambda_n, T)$\n",
    "    - $\\dim V = \\dim E(\\lambda_1, T) + \\cdots + \\dim E(\\lambda_n, T)$"
   ]
  },
  {
   "cell_type": "markdown",
   "metadata": {},
   "source": [
    "- If $T\\in \\mathcal L(V)$ has dim V distinct eigenvalues, then T is diagonalizable."
   ]
  },
  {
   "cell_type": "markdown",
   "metadata": {},
   "source": [
    "- example: Def. $T\\in \\mathcal L(F^3): T(x,y,z) = (2x+y, 5y+3z, 8z), (v_1, v_2, v_3)$ is the standard basis. then\n",
    "    \n",
    "    $$\\mathcal M(T) = \\begin{bmatrix} 2 & 1 & 0 \\\\ 0 & 5 & 3\\\\ 0 & 0 & 8\\end{bmatrix}$$\n",
    "    \n",
    "    2, 5, 8 are eigenvalues, the coresponding eigenvectors are $v_a=(1,0,0), v_b=(1,3,0), v_c=(1,6,6)$. and the Matrix of T w.r.t. this basis is $$\\mathcal M(T,(v_a,v_b,v_c))=\\begin{bmatrix} 2 & 0 & 0 \\\\ 0 & 5 & 0\\\\ 0 & 0 & 8\\end{bmatrix}$$"
   ]
  }
 ],
 "metadata": {
  "kernelspec": {
   "display_name": "Python 3",
   "language": "python",
   "name": "python3"
  },
  "language_info": {
   "codemirror_mode": {
    "name": "ipython",
    "version": 3
   },
   "file_extension": ".py",
   "mimetype": "text/x-python",
   "name": "python",
   "nbconvert_exporter": "python",
   "pygments_lexer": "ipython3",
   "version": "3.6.0"
  },
  "latex_envs": {
   "LaTeX_envs_menu_present": true,
   "autocomplete": true,
   "bibliofile": "biblio.bib",
   "cite_by": "apalike",
   "current_citInitial": 1,
   "eqLabelWithNumbers": true,
   "eqNumInitial": 1,
   "hotkeys": {
    "equation": "Ctrl-E",
    "itemize": "Ctrl-I"
   },
   "labels_anchors": false,
   "latex_user_defs": false,
   "report_style_numbering": false,
   "user_envs_cfg": false
  },
  "toc": {
   "colors": {
    "hover_highlight": "#DAA520",
    "running_highlight": "#FF0000",
    "selected_highlight": "#FFD700"
   },
   "moveMenuLeft": true,
   "nav_menu": {
    "height": "223px",
    "width": "252px"
   },
   "navigate_menu": true,
   "number_sections": true,
   "sideBar": true,
   "threshold": 4,
   "toc_cell": false,
   "toc_section_display": "block",
   "toc_window_display": true,
   "widenNotebook": false
  }
 },
 "nbformat": 4,
 "nbformat_minor": 2
}
